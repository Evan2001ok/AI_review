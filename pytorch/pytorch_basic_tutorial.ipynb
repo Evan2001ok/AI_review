{
  "nbformat": 4,
  "nbformat_minor": 0,
  "metadata": {
    "colab": {
      "provenance": []
    },
    "kernelspec": {
      "name": "python3",
      "display_name": "Python 3"
    },
    "language_info": {
      "name": "python"
    }
  },
  "cells": [
    {
      "cell_type": "code",
      "execution_count": null,
      "metadata": {
        "id": "efLYwTN_mCHo"
      },
      "outputs": [],
      "source": [
        "import torch\n",
        "import numpy as np"
      ]
    },
    {
      "cell_type": "code",
      "source": [
        "#some sample function of tensor\n",
        "array1 = torch.tensor(np.array([2,3,4,5,6]))\n",
        "array2 = torch.ones(3,3)\n",
        "array3 = torch.zeros(3,3)\n",
        "array4 = torch.rand(3,3)\n",
        "array5 = torch.randint(3,10,(3,3))\n",
        "array6 = array5.view(9)# = np.reshape()\n",
        "dim = array6.dim()\n",
        "array7 = array6.max()\n",
        "array8 = array5.t()\n",
        "array9 = array5.permute(1,0)\n",
        "array10 = array5.transpose(0,1) #(2,3) to (3,2)\n",
        "print(array5)"
      ],
      "metadata": {
        "colab": {
          "base_uri": "https://localhost:8080/"
        },
        "id": "EUVRe1C3mG-J",
        "outputId": "85c41c67-e740-4680-8129-0bc9d18ddf1e"
      },
      "execution_count": null,
      "outputs": [
        {
          "output_type": "stream",
          "name": "stdout",
          "text": [
            "tensor([[4, 7, 4],\n",
            "        [7, 4, 9],\n",
            "        [5, 7, 4]])\n"
          ]
        }
      ]
    },
    {
      "cell_type": "code",
      "source": [
        "#how use dtype\n",
        "t1 = torch.tensor([10],dtype=torch.int16)\n",
        "t2 = torch.tensor(np.array([10,1,2,3,4,5,6,7,9]),dtype=torch.float16)\n",
        "t3 = t2.view(3,3)\n",
        "t4 = t3.transpose(0,1)\n",
        "print(t3)\n",
        "print(t4)"
      ],
      "metadata": {
        "colab": {
          "base_uri": "https://localhost:8080/"
        },
        "id": "pXSlCsk96Nfh",
        "outputId": "452345da-7776-4488-82c3-2f68a1ff6079"
      },
      "execution_count": null,
      "outputs": [
        {
          "output_type": "stream",
          "name": "stdout",
          "text": [
            "tensor([[10.,  1.,  2.],\n",
            "        [ 3.,  4.,  5.],\n",
            "        [ 6.,  7.,  9.]], dtype=torch.float16)\n",
            "tensor([[10.,  3.,  6.],\n",
            "        [ 1.,  4.,  7.],\n",
            "        [ 2.,  5.,  9.]], dtype=torch.float16)\n"
          ]
        }
      ]
    },
    {
      "cell_type": "code",
      "source": [
        "#how use add()\n",
        "t1 = torch.tensor(np.array([2,4,6,8,9,1,2,8,6]),dtype=torch.float32)\n",
        "t1 = t1.view(3,3)\n",
        "t2 = torch.ones(3,3)\n",
        "t3 = torch.add(t1,t2)\n",
        "print(t1)\n",
        "print(t2)\n",
        "print(t3)"
      ],
      "metadata": {
        "colab": {
          "base_uri": "https://localhost:8080/"
        },
        "id": "fXt9NpO5-3Uz",
        "outputId": "8439351f-c92a-40a3-b45c-f3700316801a"
      },
      "execution_count": null,
      "outputs": [
        {
          "output_type": "stream",
          "name": "stdout",
          "text": [
            "tensor([[2., 4., 6.],\n",
            "        [8., 9., 1.],\n",
            "        [2., 8., 6.]])\n",
            "tensor([[1., 1., 1.],\n",
            "        [1., 1., 1.],\n",
            "        [1., 1., 1.]])\n",
            "tensor([[ 3.,  5.,  7.],\n",
            "        [ 9., 10.,  2.],\n",
            "        [ 3.,  9.,  7.]])\n"
          ]
        }
      ]
    },
    {
      "cell_type": "code",
      "source": [
        "#how use gpu run tensor\n",
        "torch.cuda.is_available()\n",
        "device = torch.device(\"cuda:0\" if torch.cuda.is_available() else \"cpu\")\n",
        "print(device)\n",
        "torch.ones([5,5],device=device)\n"
      ],
      "metadata": {
        "colab": {
          "base_uri": "https://localhost:8080/"
        },
        "id": "ZOuRdDYd__Bc",
        "outputId": "89501bfb-d6e4-4b62-9172-404424c5eebd"
      },
      "execution_count": null,
      "outputs": [
        {
          "output_type": "execute_result",
          "data": {
            "text/plain": [
              "tensor([[1., 1., 1., 1., 1.],\n",
              "        [1., 1., 1., 1., 1.],\n",
              "        [1., 1., 1., 1., 1.],\n",
              "        [1., 1., 1., 1., 1.],\n",
              "        [1., 1., 1., 1., 1.]])"
            ]
          },
          "metadata": {},
          "execution_count": 39
        }
      ]
    },
    {
      "cell_type": "code",
      "source": [
        "#how use pytorch run linear regression\n",
        "import torch\n",
        "import numpy as np\n",
        "import matplotlib.pyplot as plt\n"
      ],
      "metadata": {
        "id": "Vp_1RsmnEi-7"
      },
      "execution_count": null,
      "outputs": []
    },
    {
      "cell_type": "code",
      "source": [
        "a = torch.randn((3,3),requires_grad=True)\n",
        "a = (a * 3)/(a - 1)\n",
        "print(a)"
      ],
      "metadata": {
        "colab": {
          "base_uri": "https://localhost:8080/"
        },
        "id": "V1B9p7tAzKiL",
        "outputId": "571cbfff-d3a5-44c8-dce7-bbf44b2e8de2"
      },
      "execution_count": null,
      "outputs": [
        {
          "output_type": "stream",
          "name": "stdout",
          "text": [
            "tensor([[-1.7308e-01, -4.9312e+00, -1.1587e+01],\n",
            "        [-3.0984e+00,  1.1593e+03, -2.2843e-01],\n",
            "        [ 1.2838e+00, -1.1809e+00,  1.0129e+01]], grad_fn=<DivBackward0>)\n"
          ]
        }
      ]
    },
    {
      "cell_type": "code",
      "source": [
        "#pytorch线性回归\n",
        "import torch\n",
        "import numpy as np\n",
        "import matplotlib.pyplot as plt\n",
        "#1准备数据\n",
        "#y = 3x+0.8\n",
        "x = torch.rand([500,1])\n",
        "y = 3*x + 0.8\n",
        "#img = plt.scatter(x.numpy(),y.numpy())\n",
        "#plt.show()\n",
        "\n",
        "#2准备构建模型\n",
        "w = torch.rand([1,1],requires_grad=True)\n",
        "b = torch.rand([1],requires_grad=True)\n",
        "learning_rate = 0.01\n",
        "\n",
        "#4通过循环，反向传播，更新参数\n",
        "for i in range(2500):\n",
        "  #构建模型计算y_predict\n",
        "  y_predict = torch.matmul(x,w) + b\n",
        "  #3计算损失函数\n",
        "  loss = (y - y_predict).pow(2).mean()\n",
        "\n",
        "  if w.grad is not None:\n",
        "    w.grad.data.zero_()\n",
        "  if b.grad is not None:\n",
        "    b.grad.data.zero_()\n",
        "  loss.backward()\n",
        "  w.data = w.data - learning_rate*w.grad.data\n",
        "  b.data = b.data - learning_rate*b.grad.data\n",
        "\n",
        "  if i%100 == 0:\n",
        "    print(\"w,b,loss\",w.item(),b.item(),loss.item())\n",
        "\n",
        "img1 = plt.scatter(x.numpy(),y.numpy())\n",
        "img2 = plt.scatter(x.numpy(),y_predict.detach().numpy())\n",
        "plt.legend([img1,img2],[\"y\",\"y_predict\"])\n",
        "plt.show()"
      ],
      "metadata": {
        "colab": {
          "base_uri": "https://localhost:8080/",
          "height": 876
        },
        "id": "I9XDox6Q-cTx",
        "outputId": "c8e47585-4faf-4fb5-b329-f55658399852"
      },
      "execution_count": null,
      "outputs": [
        {
          "output_type": "stream",
          "name": "stdout",
          "text": [
            "w,b,loss 0.3764415383338928 0.15058475732803345 4.71944522857666\n",
            "w,b,loss 1.3926854133605957 1.5161774158477783 0.22428928315639496\n",
            "w,b,loss 1.6399332284927368 1.5265682935714722 0.1538117229938507\n",
            "w,b,loss 1.808529019355774 1.4459477663040161 0.11872004717588425\n",
            "w,b,loss 1.9530421495437622 1.368315577507019 0.09171939641237259\n",
            "w,b,loss 2.079787015914917 1.2995696067810059 0.07085996866226196\n",
            "w,b,loss 2.191169500350952 1.2391055822372437 0.054744571447372437\n",
            "w,b,loss 2.2890686988830566 1.1859573125839233 0.04229426011443138\n",
            "w,b,loss 2.3751187324523926 1.1392415761947632 0.03267541900277138\n",
            "w,b,loss 2.4507532119750977 1.0981805324554443 0.02524416893720627\n",
            "w,b,loss 2.51723313331604 1.062088966369629 0.019502967596054077\n",
            "w,b,loss 2.575667142868042 1.0303661823272705 0.015067447908222675\n",
            "w,b,loss 2.627027750015259 1.0024827718734741 0.011640703305602074\n",
            "w,b,loss 2.6721715927124023 0.977974534034729 0.0089933006092906\n",
            "w,b,loss 2.7118513584136963 0.9564327597618103 0.006947978399693966\n",
            "w,b,loss 2.7467281818389893 0.9374984502792358 0.0053678336553275585\n",
            "w,b,loss 2.777383804321289 0.9208561182022095 0.004147049970924854\n",
            "w,b,loss 2.8043289184570312 0.9062275886535645 0.003203903092071414\n",
            "w,b,loss 2.8280131816864014 0.8933697938919067 0.0024752304889261723\n",
            "w,b,loss 2.848830461502075 0.8820684552192688 0.0019122937228530645\n",
            "w,b,loss 2.867126703262329 0.8721354007720947 0.0014774065930396318\n",
            "w,b,loss 2.883209228515625 0.8634043335914612 0.0011414096225053072\n",
            "w,b,loss 2.897345781326294 0.8557301163673401 0.0008818202186375856\n",
            "w,b,loss 2.9097704887390137 0.8489846587181091 0.0006812766660004854\n",
            "w,b,loss 2.920691967010498 0.8430556058883667 0.000526330666616559\n"
          ]
        },
        {
          "output_type": "display_data",
          "data": {
            "text/plain": [
              "<Figure size 640x480 with 1 Axes>"
            ],
            "image/png": "[encoded data removed]"
          },
          "metadata": {}
        }
      ]
    },
    {
      "cell_type": "code",
      "source": [],
      "metadata": {
        "id": "jjTVEyXNBEOH"
      },
      "execution_count": null,
      "outputs": []
    }
  ]
}