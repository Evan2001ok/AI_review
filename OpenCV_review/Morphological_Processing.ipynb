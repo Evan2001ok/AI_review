{
  "nbformat": 4,
  "nbformat_minor": 0,
  "metadata": {
    "colab": {
      "provenance": []
    },
    "kernelspec": {
      "name": "python3",
      "display_name": "Python 3"
    },
    "language_info": {
      "name": "python"
    }
  },
  "cells": [
    {
      "cell_type": "code",
      "source": [
        "#includ:erode,dilation image. Opening and closing operations"
      ],
      "metadata": {
        "id": "N3lz7mgaBuXn"
      },
      "execution_count": null,
      "outputs": []
    },
    {
      "cell_type": "code",
      "execution_count": null,
      "metadata": {
        "id": "7q3qF_ZV7tii"
      },
      "outputs": [],
      "source": [
        "#how use erode image，dilation image\n",
        "#Erosion means the white part decreases by one circle, and expansion means the white part increases by one circle\n",
        "import cv2\n",
        "import numpy as np\n",
        "\n",
        "img = cv2.imread('1.jpg',0)\n",
        "\n",
        "# binary\n",
        "ret,binary = cv2.threshold(img, 150, 255, cv2.THRESH_BINARY_INV)\n",
        "\n",
        "# erosion\n",
        "kernel = np.ones((5,5), np.uint8)\n",
        "erosion = cv2.erode(binary, kernel, iterations=1)\n",
        "\n",
        "# dilation\n",
        "dilation = cv2.dilate(binary, kernel, iterations=1)\n",
        "\n",
        "cv2.imshow('Original Binary', binary)\n",
        "cv2.imshow('Erosion', erosion)\n",
        "cv2.imshow('Dilation', dilation)\n",
        "key = cv2.waitKey(0)\n",
        "if (key == 'q'):\n",
        "    exit()\n",
        "cv2.destroyAllWindows()"
      ]
    },
    {
      "cell_type": "code",
      "source": [
        "#Opening operations = erode + dilation\n",
        "#closing operations = dilation + erode\n",
        "#Remove external or internal noise\n",
        "import cv2\n",
        "import numpy as np\n",
        "\n",
        "img = cv2.imread('1.jpg',0)\n",
        "\n",
        "kernel = np.ones((5,5), np.uint8)\n",
        "opening = cv2.morphologyEx(img, cv2.MORPH_OPEN, kernel)\n",
        "closing = cv2.morphologyEx(img, cv2.MORPH_CLOSE, kernel)\n",
        "\n",
        "cv2.imshow('Original', img)\n",
        "cv2.imshow('opening', opening)\n",
        "cv2.imshow('closing', closing)\n",
        "key = cv2.waitKey(0)\n",
        "if (key == 'q'):\n",
        "    exit()\n",
        "cv2.destroyAllWindows()"
      ],
      "metadata": {
        "id": "hE8Z2PAXAlne"
      },
      "execution_count": null,
      "outputs": []
    },
    {
      "cell_type": "code",
      "source": [
        "#Morphological gradient = original image - erode\n",
        "import cv2\n",
        "import numpy as np\n",
        "\n",
        "img = cv2.imread('1.jpg',0)\n",
        "gradient = cv2.morphologyEx(img, cv2.MORPH_GRADIENT, kernel)\n",
        "\n",
        "cv2.imshow('Original', img)\n",
        "cv2.imshow('closing', gradient)\n",
        "key = cv2.waitKey(0)\n",
        "if (key == 'q'):\n",
        "    exit()\n",
        "cv2.destroyAllWindows()"
      ],
      "metadata": {
        "id": "md-e2ilqCZOp"
      },
      "execution_count": null,
      "outputs": []
    },
    {
      "cell_type": "code",
      "source": [
        "#Top hat operation = original image - open operation\n",
        "#keep outside noise\n",
        "import cv2\n",
        "import numpy as np\n",
        "\n",
        "img = cv2.imread('1.jpg',0)\n",
        "tophat = cv2.morphologyEx(img, cv2.MORPH_TOPHAT, kernel)\n",
        "\n",
        "cv2.imshow('Original', img)\n",
        "cv2.imshow('tophat', tophat)\n",
        "key = cv2.waitKey(0)\n",
        "if (key == 'q'):\n",
        "    exit()\n",
        "cv2.destroyAllWindows()"
      ],
      "metadata": {
        "id": "btCA9W7rLNXw"
      },
      "execution_count": null,
      "outputs": []
    },
    {
      "cell_type": "code",
      "source": [
        "#Black hat operation = original image - closed operation\n",
        "#keep inside noise\n",
        "import cv2\n",
        "import numpy as np\n",
        "\n",
        "img = cv2.imread('1.jpg',0)\n",
        "blackhat = cv2.morphologyEx(img, cv2.MORPH_BLACKHAT, kernel)\n",
        "\n",
        "cv2.imshow('Original', img)\n",
        "cv2.imshow('blackhat', blackhat)\n",
        "key = cv2.waitKey(0)\n",
        "if (key == 'q'):\n",
        "    exit()\n",
        "cv2.destroyAllWindows()\n"
      ],
      "metadata": {
        "id": "01wdJajmLpDz"
      },
      "execution_count": null,
      "outputs": []
    }
  ]
}