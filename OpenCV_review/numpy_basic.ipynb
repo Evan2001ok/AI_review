{
  "nbformat": 4,
  "nbformat_minor": 0,
  "metadata": {
    "colab": {
      "provenance": []
    },
    "kernelspec": {
      "name": "python3",
      "display_name": "Python 3"
    },
    "language_info": {
      "name": "python"
    }
  },
  "cells": [
    {
      "cell_type": "code",
      "source": [
        "import numpy as np\n",
        "import cv2"
      ],
      "metadata": {
        "id": "8iV8i1_oA-SC"
      },
      "execution_count": 3,
      "outputs": []
    },
    {
      "cell_type": "code",
      "execution_count": 4,
      "metadata": {
        "colab": {
          "base_uri": "https://localhost:8080/"
        },
        "id": "0xOVTKRl6z-T",
        "outputId": "7b879f79-76b8-4dbf-da7e-1e8ca1b768a0"
      },
      "outputs": [
        {
          "output_type": "stream",
          "name": "stdout",
          "text": [
            "[[1. 0. 0. 0. 0. 0. 0.]\n",
            " [0. 1. 0. 0. 0. 0. 0.]\n",
            " [0. 0. 1. 0. 0. 0. 0.]\n",
            " [0. 0. 0. 1. 0. 0. 0.]\n",
            " [0. 0. 0. 0. 1. 0. 0.]]\n"
          ]
        }
      ],
      "source": [
        "#some basic function of numpy\n",
        "a = np.array([[1,2,3],[3,2,4],[4,5,6]])\n",
        "b = np.zeros((8,6,3),dtype=np.uint8)\n",
        "c = np.ones((8,8,3),dtype=np.uint8)\n",
        "d = np.full((8,8,3),255,dtype=np.uint8)\n",
        "e = np.identity(3)\n",
        "f = np.eye(5,7,k = 0)\n",
        "print(f)"
      ]
    },
    {
      "cell_type": "code",
      "source": [
        "#index and Assignment\n",
        "img = np.zeros((512,512,3),dtype=np.uint8)\n",
        "print(img[100,100])\n",
        "count = 0\n",
        "while count<200:\n",
        "    img[count,100,2] = 255 #change different chanel number change RGB color\n",
        "    count += 1\n",
        "cv2.namedWindow(\"image\",cv2.WINDOW_NORMAL)\n",
        "cv2.imshow(\"image\",img)\n",
        "key = cv2.waitKey(0)\n",
        "if(key == 'q'):\n",
        "    exit()\n",
        "cv2.destroyAllWindows()"
      ],
      "metadata": {
        "colab": {
          "base_uri": "https://localhost:8080/"
        },
        "id": "-apoZKwQALmR",
        "outputId": "258aeb8b-85b5-4c59-9d5b-398dc9ff7095"
      },
      "execution_count": null,
      "outputs": [
        {
          "output_type": "stream",
          "name": "stdout",
          "text": [
            "[0 0 0]\n"
          ]
        }
      ]
    },
    {
      "cell_type": "code",
      "source": [
        "#how use roi\n",
        "img1 = np.zeros((512,512,3),dtype=np.uint8)\n",
        "roi = img1[100:500,100:600]\n",
        "roi[:,:] = [255,0,0]#全部改为blue\n",
        "roi[100:200,200:300] = [0,0,255]\n",
        "cv2.imshow('roi',roi)\n",
        "key = cv2.waitKey(0)\n",
        "if(key == 'q'):\n",
        "    exit()\n",
        "cv2.destroyAllWindows()"
      ],
      "metadata": {
        "id": "UgrEBbcidNdp"
      },
      "execution_count": null,
      "outputs": []
    },
    {
      "cell_type": "code",
      "source": [],
      "metadata": {
        "id": "HFrMAlKNdgQg"
      },
      "execution_count": null,
      "outputs": []
    }
  ]
}