{
  "nbformat": 4,
  "nbformat_minor": 0,
  "metadata": {
    "colab": {
      "provenance": []
    },
    "kernelspec": {
      "name": "python3",
      "display_name": "Python 3"
    },
    "language_info": {
      "name": "python"
    }
  },
  "cells": [
    {
      "cell_type": "code",
      "source": [
        "#Global image binarization"
      ],
      "metadata": {
        "id": "Rbb3h4D3kHZ2"
      },
      "execution_count": null,
      "outputs": []
    },
    {
      "cell_type": "code",
      "execution_count": null,
      "metadata": {
        "id": "Pi3Xq799fv_I"
      },
      "outputs": [],
      "source": [
        "#how use threshold and thresholdtype\n",
        "#If the document has shadows or creases, some text may be missing or there may be background noise\n",
        "import cv2\n",
        "import numpy as np\n",
        "\n",
        "img = cv2.imread('2.jpg')\n",
        "img = cv2.cvtColor(img,cv2.COLOR_BGR2GRAY)\n",
        "print(img.shape)\n",
        "img2 = cv2.threshold(img,180,255,cv2.THRESH_BINARY)[1]\n",
        "print(img2.shape)\n",
        "\n",
        "img = cv2.resize(img,(500,500))\n",
        "img2 = cv2.resize(img2,(500,500))\n",
        "cv2.imshow('img',img)\n",
        "cv2.imshow('img2',img2)\n",
        "key = cv2.waitKey(0)\n",
        "if key == 'q':\n",
        "    exit()\n",
        "cv2.destroyAllWindows()"
      ]
    },
    {
      "cell_type": "code",
      "source": [
        "#how use adaptive threshold\n",
        "#Compensate for global binarization of the image\n",
        "import cv2\n",
        "import numpy as np\n",
        "\n",
        "img = cv2.imread('2.jpg')\n",
        "img = cv2.cvtColor(img,cv2.COLOR_BGR2GRAY)\n",
        "print(img.shape)\n",
        "img2 = cv2.adaptiveThreshold(img,255,cv2.ADAPTIVE_THRESH_GAUSSIAN_C,cv2.THRESH_BINARY,11,2)\n",
        "print(img2.shape)\n",
        "\n",
        "img = cv2.resize(img,(500,500))\n",
        "img2 = cv2.resize(img2,(500,500))\n",
        "cv2.imshow('img',img)\n",
        "cv2.imshow('img2',img2)\n",
        "key = cv2.waitKey(0)\n",
        "if key == 'q':\n",
        "    exit()\n",
        "cv2.destroyAllWindows()"
      ],
      "metadata": {
        "id": "gCERdGkqhuNo"
      },
      "execution_count": null,
      "outputs": []
    },
    {
      "cell_type": "code",
      "source": [],
      "metadata": {
        "id": "qZhIJApEmbsi"
      },
      "execution_count": null,
      "outputs": []
    }
  ]
}