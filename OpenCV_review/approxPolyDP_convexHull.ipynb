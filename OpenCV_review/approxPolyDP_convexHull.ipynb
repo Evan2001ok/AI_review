{
  "nbformat": 4,
  "nbformat_minor": 0,
  "metadata": {
    "colab": {
      "provenance": []
    },
    "kernelspec": {
      "name": "python3",
      "display_name": "Python 3"
    },
    "language_info": {
      "name": "python"
    }
  },
  "cells": [
    {
      "cell_type": "code",
      "source": [
        "#Polygonal approximation and convex hull\n",
        "import cv2\n",
        "import numpy as np\n",
        "\n",
        "img = cv2.imread('4.jpg', 0)\n",
        "img = cv2.resize(img,(500,500))\n",
        "\n",
        "ret, thresh = cv2.threshold(img, 210, 255, cv2.THRESH_BINARY_INV)\n",
        "#去除内外噪点\n",
        "kernel = cv2.getStructuringElement(cv2.MORPH_RECT, (3, 3))\n",
        "opened = cv2.morphologyEx(thresh, cv2.MORPH_OPEN, kernel, iterations=1)\n",
        "denoised = cv2.morphologyEx(opened, cv2.MORPH_CLOSE, kernel, iterations=1)\n",
        "\n",
        "contours, hierarchy = cv2.findContours(thresh, cv2.RETR_EXTERNAL, cv2.CHAIN_APPROX_SIMPLE )\n",
        "img_color = cv2.cvtColor(img, cv2.COLOR_GRAY2BGR)\n",
        "\n",
        "#对每个轮廓做多边形逼近并计算凸包，然后绘制\n",
        "for cnt in contours:\n",
        "    perimeter = cv2.arcLength(cnt, True)\n",
        "    epsilon = 0.01 * perimeter      # 逼近精度：1% 周长\n",
        "    approx = cv2.approxPolyDP(cnt, epsilon, True)\n",
        "    #计算凸包\n",
        "    hull = cv2.convexHull(cnt)\n",
        "\n",
        "    #绘制多边形逼近轮廓（绿色）\n",
        "    cv2.drawContours(img_color, [approx], -1, (0, 255, 0), 2)\n",
        "    # 绘制凸包轮廓（红色）\n",
        "    cv2.drawContours(img_color, [hull],  -1, (0, 0, 255), 2)\n",
        "    #绘制正常轮廓（蓝色）\n",
        "    cv2.drawContours(img_color, [cnt], -1, (255, 0,   0), 2)\n",
        "\n",
        "cv2.imshow('Original Image', img)\n",
        "cv2.imshow('Threshold', thresh)\n",
        "cv2.imshow('Approximation & Convex Hull', img_color)\n",
        "\n",
        "key = cv2.waitKey(0)\n",
        "if (key == 'q'):\n",
        "    exit()\n",
        "cv2.destroyAllWindows()\n"
      ],
      "metadata": {
        "id": "svKJv0_M4Gi2"
      },
      "execution_count": null,
      "outputs": []
    }
  ]
}