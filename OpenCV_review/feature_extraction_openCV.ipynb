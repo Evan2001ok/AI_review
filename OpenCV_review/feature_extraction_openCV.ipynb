{
  "nbformat": 4,
  "nbformat_minor": 0,
  "metadata": {
    "colab": {
      "provenance": []
    },
    "kernelspec": {
      "name": "python3",
      "display_name": "Python 3"
    },
    "language_info": {
      "name": "python"
    }
  },
  "cells": [
    {
      "cell_type": "code",
      "execution_count": null,
      "metadata": {
        "id": "5UKy42K8GNep"
      },
      "outputs": [],
      "source": [
        "#Local feature extraction\n",
        "#Corner point"
      ]
    },
    {
      "cell_type": "code",
      "source": [
        "#harris corner point\n",
        "import cv2\n",
        "import numpy as np\n",
        "\n",
        "img = cv2.imread('1.jpg')\n",
        "gray = cv2.cvtColor(img,cv2.COLOR_BGR2GRAY)\n",
        "dst = cv2.cornerHarris(gray,2,3,0.04)\n",
        "img[dst>0.01*dst.max()]=[0,0,255]\n",
        "\n",
        "cv2.imshow('img',img)\n",
        "cv2.imshow('original',gray)\n",
        "key = cv2.waitKey(0)\n",
        "if(key == 'q'):\n",
        "  exit()\n",
        "cv2.destroyAllWindows()"
      ],
      "metadata": {
        "id": "lSpR73gMGng1"
      },
      "execution_count": null,
      "outputs": []
    },
    {
      "cell_type": "code",
      "source": [
        "#shi-Tomasi\n",
        "#this is improve algorithm of harris corner,no need set k value\n",
        "import cv2\n",
        "import numpy as np\n",
        "\n",
        "img = cv2.imread('1.jpg')\n",
        "gray = cv2.cvtColor(img,cv2.COLOR_BGR2GRAY)\n",
        "corners = cv2.goodFeaturesToTrack(gray,25,0.01,10)\n",
        "for i in corners:\n",
        "  x,y = i.ravel()\n",
        "  cv2.circle(img, (int(x), int(y)), 3, (255, 0, 0), -1)\n",
        "\n",
        "cv2.imshow('img',img)\n",
        "cv2.imshow('original',gray)\n",
        "key = cv2.waitKey(0)\n",
        "if(key == 'q'):\n",
        "  exit()\n",
        "cv2.destroyAllWindows()"
      ],
      "metadata": {
        "id": "-4AWNanEdB5I"
      },
      "execution_count": null,
      "outputs": []
    },
    {
      "cell_type": "code",
      "source": [
        "#The porblem of corner point is can't resize.\n",
        "#when resize,corner point change"
      ],
      "metadata": {
        "id": "CTHbJldmgslp"
      },
      "execution_count": null,
      "outputs": []
    },
    {
      "cell_type": "code",
      "source": [
        "import cv2\n",
        "import numpy as np\n",
        "\n",
        "img = cv2.imread('1.jpg')\n",
        "img = cv2.resize(img,(500,500))\n",
        "gray = cv2.cvtColor(img,cv2.COLOR_BGR2GRAY)\n",
        "corners = cv2.goodFeaturesToTrack(gray,25,0.01,10)\n",
        "for i in corners:\n",
        "  x,y = i.ravel()\n",
        "  cv2.circle(img, (int(x), int(y)), 3, (255, 0, 0), -1)\n",
        "\n",
        "cv2.imshow('img',img)\n",
        "cv2.imshow('original',gray)\n",
        "key = cv2.waitKey(0)\n",
        "if(key == 'q'):\n",
        "  exit()\n",
        "cv2.destroyAllWindows()"
      ],
      "metadata": {
        "id": "6abkzck9gP6O"
      },
      "execution_count": null,
      "outputs": []
    },
    {
      "cell_type": "code",
      "source": [
        "#sift,solve corner point resize loss problem\n",
        "import cv2\n",
        "import numpy as np\n",
        "\n",
        "img = cv2.imread('1.jpg')\n",
        "gray = cv2.cvtColor(img,cv2.COLOR_BGR2GRAY)\n",
        "sift = cv2.SIFT_create()\n",
        "kp = sift.detect(gray,None)\n",
        "img=cv2.drawKeypoints(gray,kp,img)\n",
        "\n",
        "cv2.imshow('img',img)\n",
        "cv2.imshow('original',gray)\n",
        "key = cv2.waitKey(0)\n",
        "if(key == 'q'):\n",
        "  exit()\n",
        "cv2.destroyAllWindows()"
      ],
      "metadata": {
        "id": "y8MAU4EMg4yY"
      },
      "execution_count": null,
      "outputs": []
    },
    {
      "cell_type": "code",
      "source": [
        "#sift,detect and compute\n",
        "import cv2\n",
        "import numpy as np\n",
        "\n",
        "img = cv2.imread('1.jpg')\n",
        "gray = cv2.cvtColor(img,cv2.COLOR_BGR2GRAY)\n",
        "sift = cv2.SIFT_create()\n",
        "kp,des = sift.detectAndCompute(gray,None)\n",
        "img=cv2.drawKeypoints(gray,kp,img)\n",
        "\n",
        "cv2.imshow('img',img)\n",
        "cv2.imshow('original',gray)\n",
        "print(des.shape)\n",
        "key = cv2.waitKey(0)\n",
        "if(key == 'q'):\n",
        "  exit()\n",
        "cv2.destroyAllWindows()"
      ],
      "metadata": {
        "id": "7AnJOikmlsiu"
      },
      "execution_count": null,
      "outputs": []
    },
    {
      "cell_type": "code",
      "source": [
        "#orb, this is real time\n",
        "import cv2\n",
        "import numpy as np\n",
        "\n",
        "img = cv2.imread('1.jpg')\n",
        "gray = cv2.cvtColor(img,cv2.COLOR_BGR2GRAY)\n",
        "orb = cv2.ORB_create()\n",
        "kp,des = orb.detectAndCompute(gray,None)\n",
        "img=cv2.drawKeypoints(gray,kp,img)\n",
        "\n",
        "cv2.imshow('img',img)\n",
        "cv2.imshow('original',gray)\n",
        "print(des.shape)\n",
        "key = cv2.waitKey(0)\n",
        "if(key == 'q'):\n",
        "  exit()\n",
        "cv2.destroyAllWindows()"
      ],
      "metadata": {
        "id": "rOx8ae0OmruC"
      },
      "execution_count": null,
      "outputs": []
    },
    {
      "cell_type": "code",
      "source": [
        "#Violence features Detection\n",
        "import cv2\n",
        "import numpy as np\n",
        "img = cv2.imread('1.jpg')\n",
        "g1 = cv2.cvtColor(img,cv2.COLOR_BGR2GRAY)\n",
        "g2 = cv2.cvtColor(img,cv2.COLOR_BGR2GRAY)\n",
        "\n",
        "#create sift find 2 graph features\n",
        "sift = cv2.SIFT_create()\n",
        "kp1,des1 = sift.detectAndCompute(g1,None)\n",
        "kp2,des2 = sift.detectAndCompute(g2,None)\n",
        "\n",
        "#start matche\n",
        "bf = cv2.BFMatcher(cv2.NORM_L2)\n",
        "matches = bf.knnMatch(des1,des2,k=2)\n",
        "good_matches = [m for m,n in matches if m.distance < 0.75*n.distance]\n",
        "result_img = cv2.drawMatches(img,kp1,img,kp2,good_matches,None)\n",
        "\n",
        "cv2.imshow('img',result_img)\n",
        "cv2.imshow('original',g1)\n",
        "print(des1.shape)\n",
        "key = cv2.waitKey(0)\n",
        "if(key == ord('q')):\n",
        "  exit()\n",
        "cv2.destroyAllWindows()"
      ],
      "metadata": {
        "id": "VcMBB3AHwlvt"
      },
      "execution_count": null,
      "outputs": []
    },
    {
      "cell_type": "code",
      "source": [
        "#flann features detection\n",
        "#performance higher than Violence features Detection\n",
        "import cv2\n",
        "import numpy as np\n",
        "img = cv2.imread('1.jpg')\n",
        "g1 = cv2.cvtColor(img,cv2.COLOR_BGR2GRAY)\n",
        "g2 = cv2.cvtColor(img,cv2.COLOR_BGR2GRAY)\n",
        "\n",
        "#create sift find 2 graph features\n",
        "sift = cv2.SIFT_create()\n",
        "kp1,des1 = sift.detectAndCompute(g1,None)\n",
        "kp2,des2 = sift.detectAndCompute(g2,None)\n",
        "\n",
        "#start matche\n",
        "FLANN_INDEX_KDTREE = 1\n",
        "index_params = dict(algorithm = FLANN_INDEX_KDTREE, trees = 5)\n",
        "search_params = dict(checks = 50)\n",
        "flann = cv2.FlannBasedMatcher(index_params,search_params)\n",
        "matches = flann.knnMatch(des1,des2,k=2)\n",
        "good_matches = [m for m,n in matches if m.distance < 0.75*n.distance]\n",
        "result_img = cv2.drawMatches(img,kp1,img,kp2,good_matches,None)\n",
        "\n",
        "cv2.imshow('img',result_img)\n",
        "cv2.imshow('original',g1)\n",
        "print(des1.shape)\n",
        "key = cv2.waitKey(0)\n",
        "if(key == ord('q')):\n",
        "  exit()\n",
        "cv2.destroyAllWindows()"
      ],
      "metadata": {
        "id": "ZgmU6Qw8wnJh"
      },
      "execution_count": null,
      "outputs": []
    },
    {
      "cell_type": "code",
      "source": [
        "#图片查找实现\n",
        "#特征匹配 + 单应性矩阵"
      ],
      "metadata": {
        "id": "XbJTsJhkxm3N"
      },
      "execution_count": null,
      "outputs": []
    }
  ]
}