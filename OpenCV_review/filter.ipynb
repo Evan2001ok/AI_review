{
  "nbformat": 4,
  "nbformat_minor": 0,
  "metadata": {
    "colab": {
      "provenance": []
    },
    "kernelspec": {
      "name": "python3",
      "display_name": "Python 3"
    },
    "language_info": {
      "name": "python"
    }
  },
  "cells": [
    {
      "cell_type": "code",
      "source": [
        "#Filtering == convolution"
      ],
      "metadata": {
        "id": "BlcHG73gTbUX"
      },
      "execution_count": null,
      "outputs": []
    },
    {
      "cell_type": "code",
      "source": [
        "#Low-pass filtering, used to smooth images and remove noise"
      ],
      "metadata": {
        "id": "0HcF5PitTJNC"
      },
      "execution_count": null,
      "outputs": []
    },
    {
      "cell_type": "code",
      "execution_count": null,
      "metadata": {
        "id": "yr4yhRhp43sn"
      },
      "outputs": [],
      "source": [
        "#use filter process image\n",
        "import cv2\n",
        "import numpy as np\n",
        "\n",
        "img = cv2.imread('2.jpg')\n",
        "print(img.shape)\n",
        "kernal = np.ones((5,5),np.float32)/25\n",
        "img2 = cv2.filter2D(img,-1,kernal)\n",
        "print(img2.shape)\n",
        "\n",
        "img = cv2.resize(img,(500,500))\n",
        "img2 = cv2.resize(img2,(500,500))\n",
        "cv2.imshow('img',img)\n",
        "cv2.imshow('img2',img2)\n",
        "key = cv2.waitKey(0)\n",
        "if key == 'q':\n",
        "    exit()\n",
        "cv2.destroyAllWindows()"
      ]
    },
    {
      "cell_type": "code",
      "source": [
        "#how use box filter\n",
        "import cv2\n",
        "import numpy as np\n",
        "\n",
        "img = cv2.imread('2.jpg')\n",
        "print(img.shape)\n",
        "img2 = cv2.boxFilter(img,-1,(5,5))\n",
        "print(img2.shape)\n",
        "\n",
        "img = cv2.resize(img,(500,500))\n",
        "img2 = cv2.resize(img2,(500,500))\n",
        "cv2.imshow('img',img)\n",
        "cv2.imshow('img2',img2)\n",
        "key = cv2.waitKey(0)\n",
        "if key == 'q':\n",
        "    exit()\n",
        "cv2.destroyAllWindows()"
      ],
      "metadata": {
        "id": "6NPDmuOzN7X9"
      },
      "execution_count": null,
      "outputs": []
    },
    {
      "cell_type": "code",
      "source": [
        "#how use average filter\n",
        "import cv2\n",
        "import numpy as np\n",
        "\n",
        "img = cv2.imread('2.jpg')\n",
        "print(img.shape)\n",
        "img2 = cv2.blur(img,(5,5))\n",
        "print(img2.shape)\n",
        "\n",
        "img = cv2.resize(img,(500,500))\n",
        "img2 = cv2.resize(img2,(500,500))\n",
        "cv2.imshow('img',img)\n",
        "cv2.imshow('img2',img2)\n",
        "key = cv2.waitKey(0)\n",
        "if key == 'q':\n",
        "    exit()\n",
        "cv2.destroyAllWindows()"
      ],
      "metadata": {
        "id": "HaKnlhoUOyXh"
      },
      "execution_count": null,
      "outputs": []
    },
    {
      "cell_type": "code",
      "source": [
        "#how use Gauss filter\n",
        "import cv2\n",
        "import numpy as np\n",
        "\n",
        "img = cv2.imread('2.jpg')\n",
        "print(img.shape)\n",
        "img2 = cv2.GaussianBlur(img,(5,5),0)\n",
        "print(img2.shape)\n",
        "\n",
        "img = cv2.resize(img,(500,500))\n",
        "img2 = cv2.resize(img2,(500,500))\n",
        "cv2.imshow('img',img)\n",
        "cv2.imshow('img2',img2)\n",
        "key = cv2.waitKey(0)\n",
        "if key == 'q':\n",
        "    exit()\n",
        "cv2.destroyAllWindows()"
      ],
      "metadata": {
        "id": "7_knsC2FPu_v"
      },
      "execution_count": null,
      "outputs": []
    },
    {
      "cell_type": "code",
      "source": [
        "#how use median filter\n",
        "#Specific processing pepper noise\n",
        "import cv2\n",
        "import numpy as np\n",
        "\n",
        "img = cv2.imread('2.jpg')\n",
        "print(img.shape)\n",
        "img2 = cv2.medianBlur(img,5)\n",
        "print(img2.shape)\n",
        "\n",
        "img = cv2.resize(img,(500,500))\n",
        "img2 = cv2.resize(img2,(500,500))\n",
        "cv2.imshow('img',img)\n",
        "cv2.imshow('img2',img2)\n",
        "key = cv2.waitKey(0)\n",
        "if key == 'q':\n",
        "    exit()\n",
        "cv2.destroyAllWindows()\n"
      ],
      "metadata": {
        "id": "3yegWTlbQJNI"
      },
      "execution_count": null,
      "outputs": []
    },
    {
      "cell_type": "code",
      "source": [
        "#how use Bilateral filtering\n",
        "#To preserve the edge，Beauty\n",
        "import cv2\n",
        "import numpy as np\n",
        "\n",
        "img = cv2.imread('2.jpg')\n",
        "print(img.shape)\n",
        "img2 = cv2.bilateralFilter(img,9,75,75)\n",
        "print(img2.shape)\n",
        "\n",
        "img = cv2.resize(img,(500,500))\n",
        "img2 = cv2.resize(img2,(500,500))\n",
        "cv2.imshow('img',img)\n",
        "cv2.imshow('img2',img2)\n",
        "key = cv2.waitKey(0)\n",
        "if key == 'q':\n",
        "    exit()\n",
        "cv2.destroyAllWindows()\n"
      ],
      "metadata": {
        "id": "OTzRHuCfRWP6"
      },
      "execution_count": null,
      "outputs": []
    },
    {
      "cell_type": "code",
      "source": [
        "#High-pass filtering to preserve edge features"
      ],
      "metadata": {
        "id": "FYEEB4sFTK22"
      },
      "execution_count": null,
      "outputs": []
    },
    {
      "cell_type": "code",
      "source": [
        "#how use sobel filter\n",
        "#kernal size can change\n",
        "import cv2\n",
        "import numpy as np\n",
        "\n",
        "img = cv2.imread('2.jpg')\n",
        "print(img.shape)\n",
        "img2 = cv2.Sobel(img,cv2.CV_64F,1,0,ksize=5)\n",
        "print(img2.shape)\n",
        "\n",
        "img = cv2.resize(img,(500,500))\n",
        "img2 = cv2.resize(img2,(500,500))\n",
        "cv2.imshow('img',img)\n",
        "cv2.imshow('img2',img2)\n",
        "key = cv2.waitKey(0)\n",
        "if key == 'q':\n",
        "    exit()\n",
        "cv2.destroyAllWindows()"
      ],
      "metadata": {
        "id": "c_I3UwrETaRn"
      },
      "execution_count": null,
      "outputs": []
    },
    {
      "cell_type": "code",
      "source": [
        "#how use scharr filter\n",
        "#kernal size no change\n",
        "import cv2\n",
        "import numpy as np\n",
        "\n",
        "img = cv2.imread('2.jpg')\n",
        "print(img.shape)\n",
        "img2 = cv2.Scharr(img,cv2.CV_64F,1,0)\n",
        "print(img2.shape)\n",
        "\n",
        "img = cv2.resize(img,(500,500))\n",
        "img2 = cv2.resize(img2,(500,500))\n",
        "cv2.imshow('img',img)\n",
        "cv2.imshow('img2',img2)\n",
        "key = cv2.waitKey(0)\n",
        "if key == 'q':\n",
        "    exit()\n",
        "cv2.destroyAllWindows()"
      ],
      "metadata": {
        "id": "QznjFfsfURHP"
      },
      "execution_count": null,
      "outputs": []
    },
    {
      "cell_type": "code",
      "source": [
        "#how use Laplacian filter\n",
        "import cv2\n",
        "import numpy as np\n",
        "\n",
        "img = cv2.imread('2.jpg')\n",
        "print(img.shape)\n",
        "img2 = cv2.Laplacian(img,cv2.CV_64F)\n",
        "print(img2.shape)\n",
        "\n",
        "img = cv2.resize(img,(500,500))\n",
        "img2 = cv2.resize(img2,(500,500))\n",
        "cv2.imshow('img',img)\n",
        "cv2.imshow('img2',img2)\n",
        "key = cv2.waitKey(0)\n",
        "if key == 'q':\n",
        "    exit()\n",
        "cv2.destroyAllWindows()"
      ],
      "metadata": {
        "id": "VmLxnRuWVvFU"
      },
      "execution_count": null,
      "outputs": []
    },
    {
      "cell_type": "code",
      "source": [
        "#use Canny processing edge extraction\n",
        "import cv2\n",
        "import numpy as np\n",
        "\n",
        "img = cv2.imread('2.jpg')\n",
        "print(img.shape)\n",
        "img2 = cv2.Canny(img,100,200)\n",
        "print(img2.shape)\n",
        "\n",
        "img = cv2.resize(img,(500,500))\n",
        "img2 = cv2.resize(img2,(500,500))\n",
        "cv2.imshow('img',img)\n",
        "cv2.imshow('img2',img2)\n",
        "key = cv2.waitKey(0)\n",
        "if key == 'q':\n",
        "    exit()\n",
        "cv2.destroyAllWindows()"
      ],
      "metadata": {
        "id": "KJJ1xMKSWsIu"
      },
      "execution_count": null,
      "outputs": []
    },
    {
      "cell_type": "code",
      "source": [],
      "metadata": {
        "id": "lhjo4az2almp"
      },
      "execution_count": null,
      "outputs": []
    }
  ]
}