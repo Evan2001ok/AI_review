{
  "nbformat": 4,
  "nbformat_minor": 0,
  "metadata": {
    "colab": {
      "provenance": []
    },
    "kernelspec": {
      "name": "python3",
      "display_name": "Python 3"
    },
    "language_info": {
      "name": "python"
    }
  },
  "cells": [
    {
      "cell_type": "code",
      "execution_count": null,
      "metadata": {
        "id": "CKvLNwxlhSxU"
      },
      "outputs": [],
      "source": [
        "#Vehicle Counting program"
      ]
    },
    {
      "cell_type": "code",
      "source": [
        "import cv2\n",
        "import numpy as np\n",
        "\n",
        "#step1: read video file and display it\n",
        "#step2: remove background\n",
        "#step3: use erode,dilate,close operation remove noice\n",
        "#step4: find contours\n",
        "#step5: filter real car ,and draw trangle for car\n",
        "#step6: draw a line,real car pass line counter car number\n",
        "#step7: show result\n",
        "#tips: when each step down,can,print rusult to check\n",
        "\n",
        "cap = cv2.VideoCapture(\"car.mp4\")\n",
        "\n",
        "min_w = 90\n",
        "min_h = 90\n",
        "line_high = 550\n",
        "cars = []\n",
        "offset = 6\n",
        "carno = 0\n",
        "bgremove = cv2.createBackgroundSubtractorMOG2()\n",
        "kernel = cv2.getStructuringElement(cv2.MORPH_ELLIPSE,(5,5))\n",
        "\n",
        "def center(x,y,w,h):\n",
        "  x1 = int(w/2)\n",
        "  y1 = int(h/2)\n",
        "  cx = x+x1\n",
        "  cy = y+y1\n",
        "  return cx,cy\n",
        "\n",
        "while True:\n",
        "  ret,frame = cap.read()\n",
        "\n",
        "  if(ret == True):\n",
        "    cv2.cvtColor(frame,cv2.COLOR_BGR2GRAY)#转灰度图\n",
        "    blur = cv2.GaussianBlur(frame,(3,3),5)#去噪\n",
        "    mask = bgremove.apply(blur)#去除背景\n",
        "    erode = cv2.erode(mask,kernel,iterations=1)#腐蚀操作去除外部噪点\n",
        "    dilate = cv2.dilate(erode,kernel,iterations=3)#膨胀操作还原放大\n",
        "    close = cv2.morphologyEx(dilate,cv2.MORPH_CLOSE,kernel,iterations=2)#闭运算，去除所有内部噪点\n",
        "\n",
        "    cnts,h = cv2.findContours(close,cv2.RETR_TREE,cv2.CHAIN_APPROX_SIMPLE)#找到轮廓\n",
        "    #画线\n",
        "    cv2.line(frame,(10,line_high),(1280,line_high),(255,0,0),3)\n",
        "\n",
        "    for (i,c) in enumerate(cnts):#使用轮廓画出矩形\n",
        "      x,y,w,h = cv2.boundingRect(c)\n",
        "\n",
        "      #对车宽高判断是不是车\n",
        "      isValide = (w >= min_w) and (h >= min_h)\n",
        "      if not isValide:\n",
        "        continue\n",
        "      #绘制有效的车\n",
        "      cv2.rectangle(frame,(x,y),(x+w,y+h),(0,255,0),2)\n",
        "      cpoint = center(x,y,w,h)\n",
        "      cars.append(cpoint)\n",
        "\n",
        "      for (x,y) in cars:#画出线，车过线carno + 1\n",
        "        if(y<(line_high+offset)) and (y>(line_high-offset)):\n",
        "          carno += 1\n",
        "          cv2.line(frame,(10,line_high),(1280,line_high),(0,0,255),3)\n",
        "          cars.remove((x,y))\n",
        "          print(carno)\n",
        "\n",
        "    cv2.putText(frame,\"vehicle count:\"+str(carno),(450,70),cv2.FONT_HERSHEY_SIMPLEX,2,(0,0,255),5)\n",
        "    cv2.imshow(\"frame\",frame)\n",
        "\n",
        "\n",
        "\n",
        "  key = cv2.waitKey(1)\n",
        "  if(key == 27):\n",
        "    break\n",
        "\n",
        "cap.release()\n",
        "cv2.destroyAllWindows()"
      ],
      "metadata": {
        "id": "vto3Y5y-i7Bd"
      },
      "execution_count": null,
      "outputs": []
    }
  ]
}